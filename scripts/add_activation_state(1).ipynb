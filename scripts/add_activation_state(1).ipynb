{
 "cells": [
  {
   "cell_type": "markdown",
   "id": "7b3fb8f4-edd6-4483-a1ee-85dacc23cc23",
   "metadata": {},
   "source": [
    "Take info of structures from the GPCRDB"
   ]
  },
  {
   "cell_type": "code",
   "execution_count": null,
   "id": "5af2b0f8-d42f-4d90-ace2-60eeba991e55",
   "metadata": {},
   "outputs": [],
   "source": [
    "!curl -X GET \"https://gpcrdb.org/services/structure/\" -H \"accept: application/json\" -H \"X-CSRFToken: kLIgkandC9sqqHV4N7b38XvyT9POyPmq2tdOd48LgsauYfNd9uV5UxLjqY67xJAG\" > gpcrdb_sgructures.json"
   ]
  },
  {
   "cell_type": "code",
   "execution_count": 54,
   "id": "7a2879ff-8a61-4e0e-a050-e7c618b21a23",
   "metadata": {},
   "outputs": [],
   "source": [
    "import json\n",
    "import pandas as pd\n",
    "import numpy as np\n",
    "\n",
    "# GPCRDB\n",
    "with open('gpcrdb_sgructures.json') as f:\n",
    "    text = f.read()\n",
    "gpcrdb_data = json.loads(text)\n",
    "\n",
    "# Previoius database\n",
    "df = pd.read_csv('HomolWat_db.csv')\n",
    "\n",
    "# Add state\n",
    "state = []\n",
    "for pdbid in df['PDB accesion'].values:\n",
    "    found = False\n",
    "    for i in range(len(gpcrdb_data)):\n",
    "        if data[i]['pdb_code'] == pdbid:\n",
    "            state.append(data[i]['state'])\n",
    "            # print(pdbid, data[i]['state'])\n",
    "            found = True\n",
    "            break\n",
    "    if not found:\n",
    "        state.append(np.nan)\n",
    "        #print(pdbid, np.nan)\n",
    "df['state'] = state\n",
    "df.to_csv('HomolWat_db_state.csv', index=False)"
   ]
  },
  {
   "cell_type": "code",
   "execution_count": 56,
   "id": "c3d9a81d-b9cd-4f1f-9fc2-46b93ed1d96c",
   "metadata": {},
   "outputs": [
    {
     "name": "stdout",
     "output_type": "stream",
     "text": [
      "<class 'pandas.core.frame.DataFrame'>\n",
      "RangeIndex: 801 entries, 0 to 800\n",
      "Data columns (total 14 columns):\n",
      " #   Column            Non-Null Count  Dtype \n",
      "---  ------            --------------  ----- \n",
      " 0   PDB accesion      801 non-null    object\n",
      " 1   Resolution        801 non-null    int64 \n",
      " 2   Method            801 non-null    object\n",
      " 3   Id                801 non-null    int64 \n",
      " 4   Uniprot accesion  801 non-null    object\n",
      " 5   Uniprot entry     801 non-null    object\n",
      " 6   Pfam accesion     801 non-null    object\n",
      " 7   Chain             801 non-null    object\n",
      " 8   Segments Pdb      801 non-null    object\n",
      " 9   Classification    801 non-null    object\n",
      " 10  Family            801 non-null    object\n",
      " 11  Waters            801 non-null    int64 \n",
      " 12  Fasta             801 non-null    object\n",
      " 13  state             785 non-null    object\n",
      "dtypes: int64(3), object(11)\n",
      "memory usage: 87.7+ KB\n"
     ]
    }
   ],
   "source": [
    "df.info()"
   ]
  },
  {
   "cell_type": "code",
   "execution_count": 58,
   "id": "50f39ccd-045e-4a6a-b0cc-a451bc124f3a",
   "metadata": {},
   "outputs": [
    {
     "data": {
      "text/html": [
       "<div>\n",
       "<style scoped>\n",
       "    .dataframe tbody tr th:only-of-type {\n",
       "        vertical-align: middle;\n",
       "    }\n",
       "\n",
       "    .dataframe tbody tr th {\n",
       "        vertical-align: top;\n",
       "    }\n",
       "\n",
       "    .dataframe thead th {\n",
       "        text-align: right;\n",
       "    }\n",
       "</style>\n",
       "<table border=\"1\" class=\"dataframe\">\n",
       "  <thead>\n",
       "    <tr style=\"text-align: right;\">\n",
       "      <th></th>\n",
       "      <th>PDB accesion</th>\n",
       "      <th>Resolution</th>\n",
       "      <th>Method</th>\n",
       "      <th>Id</th>\n",
       "      <th>Uniprot accesion</th>\n",
       "      <th>Uniprot entry</th>\n",
       "      <th>Pfam accesion</th>\n",
       "      <th>Chain</th>\n",
       "      <th>Segments Pdb</th>\n",
       "      <th>Classification</th>\n",
       "      <th>Family</th>\n",
       "      <th>Waters</th>\n",
       "      <th>Fasta</th>\n",
       "      <th>state</th>\n",
       "    </tr>\n",
       "  </thead>\n",
       "  <tbody>\n",
       "    <tr>\n",
       "      <th>2</th>\n",
       "      <td>1GZM</td>\n",
       "      <td>265</td>\n",
       "      <td>X-ray</td>\n",
       "      <td>1</td>\n",
       "      <td>P02699</td>\n",
       "      <td>OPSD_BOVIN</td>\n",
       "      <td>PF00001</td>\n",
       "      <td>A</td>\n",
       "      <td>1-348</td>\n",
       "      <td>receptor</td>\n",
       "      <td>classA</td>\n",
       "      <td>24</td>\n",
       "      <td>MNGTEGPNFYVPFSNKTGVVRSPFEAPQYYLAEPWQFSMLAAYMFL...</td>\n",
       "      <td>Inactive</td>\n",
       "    </tr>\n",
       "    <tr>\n",
       "      <th>3</th>\n",
       "      <td>1GZM</td>\n",
       "      <td>265</td>\n",
       "      <td>X-ray</td>\n",
       "      <td>1</td>\n",
       "      <td>P02699</td>\n",
       "      <td>OPSD_BOVIN</td>\n",
       "      <td>PF00001</td>\n",
       "      <td>B</td>\n",
       "      <td>1-348</td>\n",
       "      <td>receptor</td>\n",
       "      <td>classA</td>\n",
       "      <td>24</td>\n",
       "      <td>MNGTEGPNFYVPFSNKTGVVRSPFEAPQYYLAEPWQFSMLAAYMFL...</td>\n",
       "      <td>Inactive</td>\n",
       "    </tr>\n",
       "  </tbody>\n",
       "</table>\n",
       "</div>"
      ],
      "text/plain": [
       "  PDB accesion  Resolution Method  Id Uniprot accesion Uniprot entry  \\\n",
       "2         1GZM         265  X-ray   1           P02699    OPSD_BOVIN   \n",
       "3         1GZM         265  X-ray   1           P02699    OPSD_BOVIN   \n",
       "\n",
       "  Pfam accesion Chain Segments Pdb Classification  Family  Waters  \\\n",
       "2       PF00001     A        1-348       receptor  classA      24   \n",
       "3       PF00001     B        1-348       receptor  classA      24   \n",
       "\n",
       "                                               Fasta     state  \n",
       "2  MNGTEGPNFYVPFSNKTGVVRSPFEAPQYYLAEPWQFSMLAAYMFL...  Inactive  \n",
       "3  MNGTEGPNFYVPFSNKTGVVRSPFEAPQYYLAEPWQFSMLAAYMFL...  Inactive  "
      ]
     },
     "execution_count": 58,
     "metadata": {},
     "output_type": "execute_result"
    }
   ],
   "source": [
    "df[df['PDB accesion'] == '1GZM']['PDB accers"
   ]
  },
  {
   "cell_type": "code",
   "execution_count": null,
   "id": "d90fe965-b30b-4576-a9af-63ecbc61a7b8",
   "metadata": {},
   "outputs": [],
   "source": []
  }
 ],
 "metadata": {
  "kernelspec": {
   "display_name": "Python 3 (ipykernel)",
   "language": "python",
   "name": "python3"
  },
  "language_info": {
   "codemirror_mode": {
    "name": "ipython",
    "version": 3
   },
   "file_extension": ".py",
   "mimetype": "text/x-python",
   "name": "python",
   "nbconvert_exporter": "python",
   "pygments_lexer": "ipython3",
   "version": "3.9.10"
  }
 },
 "nbformat": 4,
 "nbformat_minor": 5
}
