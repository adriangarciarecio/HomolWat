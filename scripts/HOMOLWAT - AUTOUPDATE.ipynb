{
 "cells": [
  {
   "cell_type": "markdown",
   "metadata": {},
   "source": [
    "# HOMOLWAT \n",
    "\n",
    "Webserver to the incorporation of waters to the models of GPCR"
   ]
  },
  {
   "cell_type": "markdown",
   "metadata": {},
   "source": [
    "## INFO\n",
    "\n",
    "- Web: lmc.uab.cat/HW (alf03)\n",
    "- User: webmasterhw\n",
    "- Password: h0m0lw4t\n",
    "\n",
    "- Acces: ssh webmasterhw@alf03.uab.cat -p 55000\n",
    "- Directory: /var/www/lmc.uab.es/HW/\n",
    "\n",
    "## SCRIPTS & TEMPLATES\n",
    "\n",
    "- __init__.py  --> main script writted in FLASK\n",
    "- query_list  --> job list generated\n",
    "- REC_WAT/ --> databases of the cristal with waters\n",
    "- scripts/ --> directory containing scripts to generate the structures\n",
    "- static/ --> files used in the web \n",
    "- templates/  --> templates for html web\n",
    "- tmp/ \n",
    "- uploads/ --> into this directory was generated a directory with each query and all the files in\n",
    "- watDB_Update.txt  --> information about the last update. \n"
   ]
  },
  {
   "cell_type": "markdown",
   "metadata": {},
   "source": [
    "## UPDATE OF THE DATABASE\n",
    "\n",
    "For one hand, the app needs the crystallographic structures with internal waters. For the other hand, needs the file with the dictionary of sequences for blastp. (NEED AUTOMATATION)\n",
    "\n",
    "First, need ejecute: "
   ]
  },
  {
   "cell_type": "code",
   "execution_count": null,
   "metadata": {},
   "outputs": [],
   "source": [
    "#! ssh webmasterhw@alf03.uab.cat -p 55000\n",
    "! python get_watnum4LMCDB.py"
   ]
  },
  {
   "cell_type": "markdown",
   "metadata": {},
   "source": [
    "This script retrieves the information about the number of total and inner waters of each chain of the structures in: /people/common/LMCDB/PDB/REC_MOL_WAT <-- esto lo tengo hecho automatizado\n",
    "\n",
    "The information needs be incorporate into DB lmcdb using dbeaver and modify the columns 'water' and 'filtered_waters' <-- this column is important. "
   ]
  },
  {
   "cell_type": "markdown",
   "metadata": {},
   "source": [
    "## ALIGNMENT OF SEQUENCES \n",
    "\n",
    "In bender: "
   ]
  },
  {
   "cell_type": "code",
   "execution_count": null,
   "metadata": {},
   "outputs": [],
   "source": [
    "#! ssh webmasterhw@alf03.uab.cat -p 55000\n",
    "!cd /people/common/add_water/aln\n",
    "!mkdir new_folder\n",
    "!cd new_folder\n",
    "!cp /people/common/LMCDB/xrays.aln\n",
    "!python /people/common/add_water/scripts/aln2fasta.py xrays.aln xrays.fasta\n",
    "!python2 /people/common/add_water/scripts/fasta_degap_v2.py"
   ]
  },
  {
   "cell_type": "markdown",
   "metadata": {},
   "source": [
    "This change the format clustalw to fasta and removed the gaps. After, it needs load the module ncbi."
   ]
  },
  {
   "cell_type": "code",
   "execution_count": null,
   "metadata": {},
   "outputs": [],
   "source": [
    "!module load ncbi-blast-2.2.30\n",
    "!makeblastdb -in ref_xrays.fasta -dbtype 'prot' -out ref_gpcr"
   ]
  },
  {
   "cell_type": "markdown",
   "metadata": {},
   "source": [
    "With this steps we will generate 3 files .phr, .pin and .psq of the DB updated with the sequences of all of the different receptors available. \n",
    "\n",
    "These files will be copied to alf03:"
   ]
  },
  {
   "cell_type": "code",
   "execution_count": null,
   "metadata": {},
   "outputs": [],
   "source": [
    "!scp computer@ip webmaster@alf03.uab.cat:/var/www/lmc.uab.es/HW/hw/scripts -p 55000 "
   ]
  },
  {
   "cell_type": "markdown",
   "metadata": {},
   "source": [
    "Generate the directory REC_WAT with the new structures and send files to alf03:"
   ]
  },
  {
   "cell_type": "code",
   "execution_count": null,
   "metadata": {},
   "outputs": [],
   "source": [
    "!python2 /people/common/add_water/scripts/Update_DB-HW_bender.py\n",
    "!scp computer@ip webmaster@alf03.uab.cat:/var/www/lmc.uab.es/HW/hw/REC_MOL_WAT/ -p 55000 *.pdb\n",
    "!scp computer@ip webmaster@alf03.uab.cat:/var/www/lmc.uab.es/HW/hw/REC_MOL_WAT/ -p 55000 ref_gpcr.p*"
   ]
  },
  {
   "cell_type": "markdown",
   "metadata": {},
   "source": [
    "## WEB-SERVER\n",
    "\n",
    "First, filter the crystals:"
   ]
  },
  {
   "cell_type": "code",
   "execution_count": null,
   "metadata": {},
   "outputs": [],
   "source": [
    "python filter_crystals.py"
   ]
  },
  {
   "cell_type": "markdown",
   "metadata": {},
   "source": [
    "Generate a file for the table of the web and generate the table and the colors of each receptor"
   ]
  },
  {
   "cell_type": "code",
   "execution_count": null,
   "metadata": {},
   "outputs": [],
   "source": [
    "python get_list_gpcr_wat_per_year.py > \n",
    "python gene_html_table_gpcr.py"
   ]
  },
  {
   "cell_type": "markdown",
   "metadata": {},
   "source": [
    "That generates table_gpcr.html, table_view.html and colors.js. Also needs to generate the files PdbResol with:"
   ]
  },
  {
   "cell_type": "code",
   "execution_count": null,
   "metadata": {},
   "outputs": [],
   "source": [
    "python gene_list_pdbs_resol_alf.py"
   ]
  }
 ],
 "metadata": {
  "kernelspec": {
   "display_name": "Python 3",
   "language": "python",
   "name": "python3"
  },
  "language_info": {
   "codemirror_mode": {
    "name": "ipython",
    "version": 3
   },
   "file_extension": ".py",
   "mimetype": "text/x-python",
   "name": "python",
   "nbconvert_exporter": "python",
   "pygments_lexer": "ipython3",
   "version": "3.6.7"
  }
 },
 "nbformat": 4,
 "nbformat_minor": 2
}
